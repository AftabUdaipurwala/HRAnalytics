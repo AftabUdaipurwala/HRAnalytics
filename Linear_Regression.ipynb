{
  "nbformat": 4,
  "nbformat_minor": 0,
  "metadata": {
    "colab": {
      "name": "Linear Regression.ipynb",
      "provenance": [],
      "collapsed_sections": [],
      "mount_file_id": "1C67lj3mr2yWDBvkFAjxZi_uJhly4qXyt",
      "authorship_tag": "ABX9TyNrx4YsJgVWDKiYgKVqC6Cz",
      "include_colab_link": true
    },
    "kernelspec": {
      "name": "python3",
      "display_name": "Python 3"
    },
    "language_info": {
      "name": "python"
    }
  },
  "cells": [
    {
      "cell_type": "markdown",
      "metadata": {
        "id": "view-in-github",
        "colab_type": "text"
      },
      "source": [
        "<a href=\"https://colab.research.google.com/github/AftabUdaipurwala/HRAnalytics/blob/Code/Linear_Regression.ipynb\" target=\"_parent\"><img src=\"https://colab.research.google.com/assets/colab-badge.svg\" alt=\"Open In Colab\"/></a>"
      ]
    },
    {
      "cell_type": "code",
      "metadata": {
        "colab": {
          "base_uri": "https://localhost:8080/"
        },
        "id": "QWsMQMQGyMqe",
        "outputId": "4f07111b-8b6f-42e9-e24f-cfcfaccf5486"
      },
      "source": [
        "from google.colab import drive\n",
        "drive.mount('/content/drive')"
      ],
      "execution_count": 1,
      "outputs": [
        {
          "output_type": "stream",
          "text": [
            "Mounted at /content/drive\n"
          ],
          "name": "stdout"
        }
      ]
    },
    {
      "cell_type": "code",
      "metadata": {
        "colab": {
          "base_uri": "https://localhost:8080/"
        },
        "id": "hMi7UWyTzdiZ",
        "outputId": "74ebe10c-99ef-4bae-c685-2ab4c0066de3"
      },
      "source": [
        "!ls '/content/drive/MyDrive/py-master/ML/1_linear_reg'"
      ],
      "execution_count": 10,
      "outputs": [
        {
          "output_type": "stream",
          "text": [
            "1_linear_regression.ipynb  error_equation.jpg  linear_equation.png\n",
            "areas.csv\t\t   Exercise\t       linearReg.py\n",
            "different_lines.JPG\t   homeprices.csv      prediction.csv\n",
            "equation.PNG\t\t   homepricetable.JPG  scatterplot.JPG\n"
          ],
          "name": "stdout"
        }
      ]
    },
    {
      "cell_type": "code",
      "metadata": {
        "id": "Yt0CjwrV1rm1"
      },
      "source": [
        "import pandas as pd\n",
        "import numpy as np\n",
        "from sklearn import linear_model\n",
        "import matplotlib.pyplot as plt"
      ],
      "execution_count": 13,
      "outputs": []
    },
    {
      "cell_type": "code",
      "metadata": {
        "colab": {
          "base_uri": "https://localhost:8080/",
          "height": 203
        },
        "id": "2H2XDMZv1yVR",
        "outputId": "10457ed0-5e7b-4b20-ae49-fb0ed89f97ca"
      },
      "source": [
        "df = pd.read_csv('/content/drive/MyDrive/py-master/ML/1_linear_reg/homeprices.csv')\n",
        "df"
      ],
      "execution_count": 14,
      "outputs": [
        {
          "output_type": "execute_result",
          "data": {
            "text/html": [
              "<div>\n",
              "<style scoped>\n",
              "    .dataframe tbody tr th:only-of-type {\n",
              "        vertical-align: middle;\n",
              "    }\n",
              "\n",
              "    .dataframe tbody tr th {\n",
              "        vertical-align: top;\n",
              "    }\n",
              "\n",
              "    .dataframe thead th {\n",
              "        text-align: right;\n",
              "    }\n",
              "</style>\n",
              "<table border=\"1\" class=\"dataframe\">\n",
              "  <thead>\n",
              "    <tr style=\"text-align: right;\">\n",
              "      <th></th>\n",
              "      <th>area</th>\n",
              "      <th>price</th>\n",
              "    </tr>\n",
              "  </thead>\n",
              "  <tbody>\n",
              "    <tr>\n",
              "      <th>0</th>\n",
              "      <td>2600</td>\n",
              "      <td>550000</td>\n",
              "    </tr>\n",
              "    <tr>\n",
              "      <th>1</th>\n",
              "      <td>3000</td>\n",
              "      <td>565000</td>\n",
              "    </tr>\n",
              "    <tr>\n",
              "      <th>2</th>\n",
              "      <td>3200</td>\n",
              "      <td>610000</td>\n",
              "    </tr>\n",
              "    <tr>\n",
              "      <th>3</th>\n",
              "      <td>3600</td>\n",
              "      <td>680000</td>\n",
              "    </tr>\n",
              "    <tr>\n",
              "      <th>4</th>\n",
              "      <td>4000</td>\n",
              "      <td>725000</td>\n",
              "    </tr>\n",
              "  </tbody>\n",
              "</table>\n",
              "</div>"
            ],
            "text/plain": [
              "   area   price\n",
              "0  2600  550000\n",
              "1  3000  565000\n",
              "2  3200  610000\n",
              "3  3600  680000\n",
              "4  4000  725000"
            ]
          },
          "metadata": {},
          "execution_count": 14
        }
      ]
    },
    {
      "cell_type": "markdown",
      "metadata": {
        "id": "6jgl1zw87lnr"
      },
      "source": [
        "Plot scatterplot to see the distribution\n"
      ]
    },
    {
      "cell_type": "code",
      "metadata": {
        "colab": {
          "base_uri": "https://localhost:8080/",
          "height": 296
        },
        "id": "Bf5nDiVI6uto",
        "outputId": "f8f2d42f-60ba-45a8-f279-c609e37259c9"
      },
      "source": [
        "%matplotlib inline\n",
        "plt.xlabel(\"area in sqft\")\n",
        "plt.ylabel(\"price in $\")\n",
        "plt.scatter(df.area,df.price, color=\"red\", marker=\"+\")"
      ],
      "execution_count": 16,
      "outputs": [
        {
          "output_type": "execute_result",
          "data": {
            "text/plain": [
              "<matplotlib.collections.PathCollection at 0x7f7218c57cd0>"
            ]
          },
          "metadata": {},
          "execution_count": 16
        },
        {
          "output_type": "display_data",
          "data": {
            "image/png": "[encoded data removed]",
            "text/plain": [
              "<Figure size 432x288 with 1 Axes>"
            ]
          },
          "metadata": {
            "needs_background": "light"
          }
        }
      ]
    },
    {
      "cell_type": "code",
      "metadata": {
        "colab": {
          "base_uri": "https://localhost:8080/"
        },
        "id": "ZC_8DXgb6xPb",
        "outputId": "9f42b236-d968-4820-eda9-830125822265"
      },
      "source": [
        "# create a linear regression object\n",
        "\n",
        "reg=linear_model.LinearRegression()\n",
        "reg.fit(df[['area']],df.price)"
      ],
      "execution_count": 20,
      "outputs": [
        {
          "output_type": "execute_result",
          "data": {
            "text/plain": [
              "LinearRegression(copy_X=True, fit_intercept=True, n_jobs=None, normalize=False)"
            ]
          },
          "metadata": {},
          "execution_count": 20
        }
      ]
    },
    {
      "cell_type": "markdown",
      "metadata": {
        "id": "fvwDYz3N9DFC"
      },
      "source": [
        "Check for predictions\n"
      ]
    },
    {
      "cell_type": "code",
      "metadata": {
        "colab": {
          "base_uri": "https://localhost:8080/"
        },
        "id": "zRwgffXr6xf1",
        "outputId": "50a5ce9e-3e74-478c-c6e1-1a0ac6600f5d"
      },
      "source": [
        "reg.predict([[3300]])"
      ],
      "execution_count": 22,
      "outputs": [
        {
          "output_type": "execute_result",
          "data": {
            "text/plain": [
              "array([628715.75342466])"
            ]
          },
          "metadata": {},
          "execution_count": 22
        }
      ]
    },
    {
      "cell_type": "markdown",
      "metadata": {
        "id": "KunZSDZB8-wJ"
      },
      "source": [
        "Check for coefficient and intercept\n"
      ]
    },
    {
      "cell_type": "code",
      "metadata": {
        "colab": {
          "base_uri": "https://localhost:8080/"
        },
        "id": "600swVki6xo9",
        "outputId": "53db5f17-f46c-4323-d142-2f0990e6bd83"
      },
      "source": [
        "m=reg.coef_\n",
        "m"
      ],
      "execution_count": 26,
      "outputs": [
        {
          "output_type": "execute_result",
          "data": {
            "text/plain": [
              "array([135.78767123])"
            ]
          },
          "metadata": {},
          "execution_count": 26
        }
      ]
    },
    {
      "cell_type": "code",
      "metadata": {
        "colab": {
          "base_uri": "https://localhost:8080/"
        },
        "id": "iZSDnaM89KWD",
        "outputId": "ab701986-75f6-4684-e56c-53a5bf32f08a"
      },
      "source": [
        "b=reg.intercept_\n",
        "b"
      ],
      "execution_count": 25,
      "outputs": [
        {
          "output_type": "execute_result",
          "data": {
            "text/plain": [
              "180616.43835616432"
            ]
          },
          "metadata": {},
          "execution_count": 25
        }
      ]
    },
    {
      "cell_type": "code",
      "metadata": {
        "colab": {
          "base_uri": "https://localhost:8080/"
        },
        "id": "SJXg6WTD9cKJ",
        "outputId": "0358639f-2798-4cba-91ee-912879c0ff89"
      },
      "source": [
        "x=3300\n",
        "y=m*x+b\n",
        "print(y)"
      ],
      "execution_count": 27,
      "outputs": [
        {
          "output_type": "stream",
          "text": [
            "[628715.75342466]\n"
          ],
          "name": "stdout"
        }
      ]
    },
    {
      "cell_type": "code",
      "metadata": {
        "id": "tDBFe0Sz90QQ"
      },
      "source": [
        "d= pd.read_csv('/content/drive/MyDrive/py-master/ML/1_linear_reg/areas.csv')\n",
        "d.head(3)\n",
        "d1 = d.to_numpy()"
      ],
      "execution_count": 54,
      "outputs": []
    },
    {
      "cell_type": "code",
      "metadata": {
        "colab": {
          "base_uri": "https://localhost:8080/"
        },
        "id": "ZuBcZkFG-GP2",
        "outputId": "bf0aea23-2a47-4696-de6c-ca2325a2d856"
      },
      "source": [
        "p= reg.predict(d1)\n",
        "p"
      ],
      "execution_count": 55,
      "outputs": [
        {
          "output_type": "execute_result",
          "data": {
            "text/plain": [
              "array([ 316404.10958904,  384297.94520548,  492928.08219178,\n",
              "        661304.79452055,  740061.64383562,  799808.21917808,\n",
              "        926090.75342466,  650441.78082192,  825607.87671233,\n",
              "        492928.08219178, 1402705.47945205, 1348390.4109589 ,\n",
              "       1144708.90410959])"
            ]
          },
          "metadata": {},
          "execution_count": 55
        }
      ]
    },
    {
      "cell_type": "code",
      "metadata": {
        "colab": {
          "base_uri": "https://localhost:8080/"
        },
        "id": "xb_IYu4j_WkT",
        "outputId": "67c775b3-a1ba-4134-876a-7ac346fd2e19"
      },
      "source": [
        "p1 = pd.DataFrame(p)\n",
        "print(p1)"
      ],
      "execution_count": 56,
      "outputs": [
        {
          "output_type": "stream",
          "text": [
            "               0\n",
            "0   3.164041e+05\n",
            "1   3.842979e+05\n",
            "2   4.929281e+05\n",
            "3   6.613048e+05\n",
            "4   7.400616e+05\n",
            "5   7.998082e+05\n",
            "6   9.260908e+05\n",
            "7   6.504418e+05\n",
            "8   8.256079e+05\n",
            "9   4.929281e+05\n",
            "10  1.402705e+06\n",
            "11  1.348390e+06\n",
            "12  1.144709e+06\n"
          ],
          "name": "stdout"
        }
      ]
    },
    {
      "cell_type": "code",
      "metadata": {
        "colab": {
          "base_uri": "https://localhost:8080/"
        },
        "id": "WwlflcQJAAzn",
        "outputId": "4f0de24a-e1d3-4ee7-eadc-a78911b7d6cd"
      },
      "source": [
        "frames =[d,p1]\n",
        "df= pd.concat(frames, axis=1)\n",
        "df.columns=['Area','Prices']\n",
        "print(df)"
      ],
      "execution_count": 61,
      "outputs": [
        {
          "output_type": "stream",
          "text": [
            "    Area        Prices\n",
            "0   1000  3.164041e+05\n",
            "1   1500  3.842979e+05\n",
            "2   2300  4.929281e+05\n",
            "3   3540  6.613048e+05\n",
            "4   4120  7.400616e+05\n",
            "5   4560  7.998082e+05\n",
            "6   5490  9.260908e+05\n",
            "7   3460  6.504418e+05\n",
            "8   4750  8.256079e+05\n",
            "9   2300  4.929281e+05\n",
            "10  9000  1.402705e+06\n",
            "11  8600  1.348390e+06\n",
            "12  7100  1.144709e+06\n"
          ],
          "name": "stdout"
        }
      ]
    }
  ]
}